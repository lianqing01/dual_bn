{
 "cells": [
  {
   "cell_type": "code",
   "execution_count": 3,
   "metadata": {},
   "outputs": [],
   "source": [
    "import torch\n",
    "ckpt = torch.load(\"results/vgg/vgg16_bn_bsz_128_Tue-May-12-09:37:21-2020/epoch_199.pth\")"
   ]
  },
  {
   "cell_type": "code",
   "execution_count": 6,
   "metadata": {},
   "outputs": [
    {
     "name": "stdout",
     "output_type": "stream",
     "text": [
      "odict_keys(['features.0.weight', 'features.0.bias', 'features.1.weight', 'features.1.bias', 'features.1.running_mean', 'features.1.running_var', 'features.1.num_batches_tracked', 'features.3.weight', 'features.3.bias', 'features.4.weight', 'features.4.bias', 'features.4.running_mean', 'features.4.running_var', 'features.4.num_batches_tracked', 'features.7.weight', 'features.7.bias', 'features.8.weight', 'features.8.bias', 'features.8.running_mean', 'features.8.running_var', 'features.8.num_batches_tracked', 'features.10.weight', 'features.10.bias', 'features.11.weight', 'features.11.bias', 'features.11.running_mean', 'features.11.running_var', 'features.11.num_batches_tracked', 'features.14.weight', 'features.14.bias', 'features.15.weight', 'features.15.bias', 'features.15.running_mean', 'features.15.running_var', 'features.15.num_batches_tracked', 'features.17.weight', 'features.17.bias', 'features.18.weight', 'features.18.bias', 'features.18.running_mean', 'features.18.running_var', 'features.18.num_batches_tracked', 'features.20.weight', 'features.20.bias', 'features.21.weight', 'features.21.bias', 'features.21.running_mean', 'features.21.running_var', 'features.21.num_batches_tracked', 'features.24.weight', 'features.24.bias', 'features.25.weight', 'features.25.bias', 'features.25.running_mean', 'features.25.running_var', 'features.25.num_batches_tracked', 'features.27.weight', 'features.27.bias', 'features.28.weight', 'features.28.bias', 'features.28.running_mean', 'features.28.running_var', 'features.28.num_batches_tracked', 'features.30.weight', 'features.30.bias', 'features.31.weight', 'features.31.bias', 'features.31.running_mean', 'features.31.running_var', 'features.31.num_batches_tracked', 'features.34.weight', 'features.34.bias', 'features.35.weight', 'features.35.bias', 'features.35.running_mean', 'features.35.running_var', 'features.35.num_batches_tracked', 'features.37.weight', 'features.37.bias', 'features.38.weight', 'features.38.bias', 'features.38.running_mean', 'features.38.running_var', 'features.38.num_batches_tracked', 'features.40.weight', 'features.40.bias', 'features.41.weight', 'features.41.bias', 'features.41.running_mean', 'features.41.running_var', 'features.41.num_batches_tracked', 'classifier.1.weight', 'classifier.1.bias', 'classifier.4.weight', 'classifier.4.bias', 'classifier.6.weight', 'classifier.6.bias'])\n"
     ]
    }
   ],
   "source": [
    "model = ckpt['state_dict']\n",
    "print(model.keys())"
   ]
  },
  {
   "cell_type": "code",
   "execution_count": 7,
   "metadata": {},
   "outputs": [
    {
     "data": {
      "text/plain": [
       "tensor([0.4948, 0.5354, 0.5746, 0.3180, 0.8670, 0.5616, 0.3982, 0.5885, 0.5010,\n",
       "        0.4844, 0.4688, 0.5854, 0.3132, 0.2584, 0.4438, 0.6391, 0.5060, 0.3776,\n",
       "        0.4414, 0.4552, 0.1826, 0.4756, 0.2171, 0.3104, 0.4914, 0.5958, 0.2852,\n",
       "        0.5083, 0.3303, 0.4267, 0.4967, 0.4947, 0.3982, 0.4181, 0.4545, 0.7482,\n",
       "        0.4522, 0.4050, 0.4543, 0.2752, 0.3247, 0.4127, 0.5856, 0.5528, 0.6081,\n",
       "        0.7492, 0.6233, 0.4479, 0.4225, 0.3071, 0.3143, 0.3590, 0.1652, 0.5913,\n",
       "        0.3431, 0.2746, 0.7980, 0.3007, 0.3676, 0.6105, 0.3076, 0.4415, 0.4008,\n",
       "        0.2727], device='cuda:0')"
      ]
     },
     "execution_count": 7,
     "metadata": {},
     "output_type": "execute_result"
    }
   ],
   "source": [
    "model['features.1.weight']"
   ]
  },
  {
   "cell_type": "code",
   "execution_count": 8,
   "metadata": {},
   "outputs": [
    {
     "data": {
      "text/plain": [
       "tensor([5.2193, 0.9454, 1.2977, 2.2876, 2.3643, 1.9141, 2.7981, 0.7904, 4.3393,\n",
       "        5.4289, 2.5785, 1.7199, 2.1340, 3.3575, 1.9901, 0.9053, 1.0167, 0.6747,\n",
       "        0.6884, 0.6745, 0.1366, 5.9421, 2.0998, 1.3244, 3.1143, 0.7453, 1.4790,\n",
       "        1.7411, 2.0771, 3.7013, 1.6376, 2.3501, 3.4371, 2.2711, 2.1691, 1.9822,\n",
       "        3.2354, 1.1330, 1.5611, 0.8456, 0.3078, 1.3312, 0.4230, 1.0618, 2.0186,\n",
       "        1.6236, 1.9169, 0.4623, 1.4365, 1.3056, 1.6652, 1.0037, 0.2647, 1.1544,\n",
       "        0.7490, 1.6925, 1.5252, 1.5148, 1.5432, 0.8675, 4.1421, 0.8557, 0.5827,\n",
       "        0.6873], device='cuda:0')"
      ]
     },
     "execution_count": 8,
     "metadata": {},
     "output_type": "execute_result"
    }
   ],
   "source": [
    "model['features.1.running_var']"
   ]
  }
 ],
 "metadata": {
  "kernelspec": {
   "display_name": "Python 3",
   "language": "python",
   "name": "python3"
  },
  "language_info": {
   "codemirror_mode": {
    "name": "ipython",
    "version": 3
   },
   "file_extension": ".py",
   "mimetype": "text/x-python",
   "name": "python",
   "nbconvert_exporter": "python",
   "pygments_lexer": "ipython3",
   "version": "3.7.4"
  }
 },
 "nbformat": 4,
 "nbformat_minor": 2
}
