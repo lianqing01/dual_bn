{
 "cells": [
  {
   "cell_type": "code",
   "execution_count": 25,
   "metadata": {},
   "outputs": [],
   "source": [
    "import torch\n",
    "import matplotlib.pyplot as plt"
   ]
  },
  {
   "cell_type": "code",
   "execution_count": 4,
   "metadata": {},
   "outputs": [],
   "source": [
    "models = [torch.load(\"results/CIFAR10resnet20+train_weight+bn_norm_+bn_Thu-Jan--7-09:30:45-2021/epoch_{}.pth\".format(i)) for i in range(9)]"
   ]
  },
  {
   "cell_type": "code",
   "execution_count": 32,
   "metadata": {},
   "outputs": [],
   "source": [
    "# get bn param'\n",
    "def get_bn_param(state_dict, key):\n",
    "    res = []\n",
    "    for k, v in state_dict.items():\n",
    "        if 'bn' in k and key in k:\n",
    "            res.append(v.view(-1,1).float())\n",
    "    return res\n"
   ]
  },
  {
   "cell_type": "code",
   "execution_count": 39,
   "metadata": {},
   "outputs": [],
   "source": [
    "model0_weight = get_bn_param(models[0]['state_dict'], 'weight')\n",
    "model0_bias = get_bn_param(models[0]['state_dict'], 'bias')\n"
   ]
  },
  {
   "cell_type": "code",
   "execution_count": 40,
   "metadata": {},
   "outputs": [
    {
     "data": {
      "text/plain": [
       "(array([  5.,   9.,  13.,  30., 241.,  21.,  14.,  41., 304.,  10.]),\n",
       " array([-0.9261356 , -0.7011285 , -0.47612137, -0.25111422, -0.02610711,\n",
       "         0.19890001,  0.42390713,  0.6489143 ,  0.8739214 ,  1.0989285 ,\n",
       "         1.3239356 ], dtype=float32),\n",
       " <a list of 10 Patch objects>)"
      ]
     },
     "execution_count": 40,
     "metadata": {},
     "output_type": "execute_result"
    },
    {
     "data": {
      "image/png": "[encoded data removed]",
      "text/plain": [
       "<Figure size 432x288 with 1 Axes>"
      ]
     },
     "metadata": {
      "needs_background": "light"
     },
     "output_type": "display_data"
    }
   ],
   "source": [
    "model0_weight = torch.cat(model0_weight).cpu().numpy()\n",
    "plt.hist(model0_weight)"
   ]
  },
  {
   "cell_type": "code",
   "execution_count": 41,
   "metadata": {},
   "outputs": [
    {
     "data": {
      "text/plain": [
       "(array([  4.,  10.,  49., 454., 128.,  33.,   6.,   2.,   1.,   1.]),\n",
       " array([-0.35168254, -0.25744626, -0.16320999, -0.06897371,  0.02526257,\n",
       "         0.11949885,  0.21373513,  0.30797142,  0.40220767,  0.49644396,\n",
       "         0.59068024], dtype=float32),\n",
       " <a list of 10 Patch objects>)"
      ]
     },
     "execution_count": 41,
     "metadata": {},
     "output_type": "execute_result"
    },
    {
     "data": {
      "image/png": "[encoded data removed]",
      "text/plain": [
       "<Figure size 432x288 with 1 Axes>"
      ]
     },
     "metadata": {
      "needs_background": "light"
     },
     "output_type": "display_data"
    }
   ],
   "source": [
    "model0_bias = torch.cat(model0_bias).cpu().numpy()\n",
    "plt.hist(model0_bias)"
   ]
  },
  {
   "cell_type": "code",
   "execution_count": null,
   "metadata": {},
   "outputs": [],
   "source": []
  }
 ],
 "metadata": {
  "kernelspec": {
   "display_name": "Python 3",
   "language": "python",
   "name": "python3"
  },
  "language_info": {
   "codemirror_mode": {
    "name": "ipython",
    "version": 3
   },
   "file_extension": ".py",
   "mimetype": "text/x-python",
   "name": "python",
   "nbconvert_exporter": "python",
   "pygments_lexer": "ipython3",
   "version": "3.7.4"
  }
 },
 "nbformat": 4,
 "nbformat_minor": 4
}
